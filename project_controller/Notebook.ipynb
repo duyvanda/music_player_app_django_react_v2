{
 "cells": [
  {
   "cell_type": "markdown",
   "id": "20a9fe7d",
   "metadata": {},
   "source": [
    "Tutorial from : https://gist.github.com/codingforentrepreneurs/76e570d759f83d690bf36a8a8fa4cfbe"
   ]
  },
  {
   "cell_type": "code",
   "execution_count": 5,
   "id": "63c00acd",
   "metadata": {},
   "outputs": [],
   "source": [
    "from django_for_jupyter import init_django\n",
    "init_django(\"project_controller\")"
   ]
  },
  {
   "cell_type": "code",
   "execution_count": null,
   "id": "1a2b8381",
   "metadata": {},
   "outputs": [],
   "source": [
    "from api.models import Room\n",
    "from api.serializers import RoomSerializer, CreateRoomSerializer, UpdateRoomSerializer"
   ]
  },
  {
   "cell_type": "code",
   "execution_count": null,
   "id": "de435ade",
   "metadata": {},
   "outputs": [],
   "source": [
    "room = Room.objects.get(code='AFAFAF', many=False)"
   ]
  },
  {
   "cell_type": "code",
   "execution_count": null,
   "id": "576d42ea",
   "metadata": {},
   "outputs": [],
   "source": [
    "room.host"
   ]
  },
  {
   "cell_type": "code",
   "execution_count": null,
   "id": "aa8a0289",
   "metadata": {},
   "outputs": [],
   "source": [
    "request.session.session_key == room.host"
   ]
  },
  {
   "cell_type": "code",
   "execution_count": null,
   "id": "7dc64548",
   "metadata": {},
   "outputs": [],
   "source": [
    "room.host"
   ]
  },
  {
   "cell_type": "code",
   "execution_count": null,
   "id": "abbcacf3",
   "metadata": {},
   "outputs": [],
   "source": [
    "data1 = RoomSerializer(room[0]).data"
   ]
  },
  {
   "cell_type": "code",
   "execution_count": null,
   "id": "0f04f085",
   "metadata": {},
   "outputs": [],
   "source": [
    "data"
   ]
  },
  {
   "cell_type": "code",
   "execution_count": null,
   "id": "66576803",
   "metadata": {},
   "outputs": [],
   "source": [
    "room"
   ]
  },
  {
   "cell_type": "code",
   "execution_count": null,
   "id": "f6c742ba",
   "metadata": {},
   "outputs": [],
   "source": [
    "serializer = SnippetSerializer(snippet)"
   ]
  },
  {
   "cell_type": "code",
   "execution_count": null,
   "id": "ceaed598",
   "metadata": {},
   "outputs": [],
   "source": [
    "test = JsonResponse(serializer.data)"
   ]
  },
  {
   "cell_type": "code",
   "execution_count": null,
   "id": "f5017893",
   "metadata": {},
   "outputs": [],
   "source": [
    "serializer.data"
   ]
  },
  {
   "cell_type": "code",
   "execution_count": null,
   "id": "17fc9feb",
   "metadata": {},
   "outputs": [],
   "source": [
    "data = {'id': 5, 'title': 'Code is ALWAYS fun', 'code': 'print(\"hello, world from drf\")', 'linenos': True, 'language': 'python', 'style': 'friendly'}"
   ]
  },
  {
   "cell_type": "code",
   "execution_count": null,
   "id": "bdf9624a",
   "metadata": {},
   "outputs": [],
   "source": [
    "serializer = SnippetSerializer(snippet, data=data)\n",
    "if serializer.is_valid():\n",
    "    serializer.save()"
   ]
  },
  {
   "cell_type": "code",
   "execution_count": null,
   "id": "879b8960",
   "metadata": {},
   "outputs": [],
   "source": [
    "SnippetSerializer(snippet).data"
   ]
  },
  {
   "cell_type": "code",
   "execution_count": null,
   "id": "97eb2f37",
   "metadata": {},
   "outputs": [],
   "source": [
    "snippet.title"
   ]
  },
  {
   "cell_type": "code",
   "execution_count": null,
   "id": "ea89e017",
   "metadata": {},
   "outputs": [],
   "source": [
    "snippet.title = 'Code is ALWAYS fun UPDATED'"
   ]
  },
  {
   "cell_type": "code",
   "execution_count": null,
   "id": "095e61d8",
   "metadata": {},
   "outputs": [],
   "source": [
    "snippet.save()"
   ]
  },
  {
   "cell_type": "code",
   "execution_count": null,
   "id": "cfca03ab",
   "metadata": {},
   "outputs": [],
   "source": [
    "SnippetSerializer(snippet).data"
   ]
  },
  {
   "cell_type": "code",
   "execution_count": null,
   "id": "f7b7d1f9",
   "metadata": {},
   "outputs": [],
   "source": [
    "content=    {\n",
    "        \"guest_can_pause\": 'true',\n",
    "        \"votes_to_skip\": 26\n",
    "    }"
   ]
  },
  {
   "cell_type": "code",
   "execution_count": null,
   "id": "fc77cb63",
   "metadata": {},
   "outputs": [],
   "source": [
    "content['data'] = 5"
   ]
  },
  {
   "cell_type": "code",
   "execution_count": null,
   "id": "3604f7f9",
   "metadata": {},
   "outputs": [],
   "source": [
    "content"
   ]
  },
  {
   "cell_type": "code",
   "execution_count": 32,
   "id": "c3a43293",
   "metadata": {},
   "outputs": [],
   "source": [
    "from spotify.models import SpotifyToken\n",
    "from django.utils import timezone\n",
    "from datetime import timedelta\n",
    "from spotify.credentials import CLIENT_ID, CLIENT_SECRET\n",
    "from requests import post, put, get\n",
    "import json\n",
    "\n",
    "BASE_URL = \"https://api.spotify.com/v1/\""
   ]
  },
  {
   "cell_type": "code",
   "execution_count": null,
   "id": "a620f802",
   "metadata": {},
   "outputs": [],
   "source": [
    "def get_user_tokens(session_id):\n",
    "\n",
    "    if user_tokens.exists():\n",
    "        return user_tokens[0]\n",
    "    else:\n",
    "        return None"
   ]
  },
  {
   "cell_type": "code",
   "execution_count": 7,
   "id": "9278cbbe",
   "metadata": {},
   "outputs": [],
   "source": [
    "user_tokens = SpotifyToken.objects.filter(user='6in2d76e1uczlxc0vrklxkv45fb3w60g')"
   ]
  },
  {
   "cell_type": "code",
   "execution_count": 11,
   "id": "457ac4cc",
   "metadata": {},
   "outputs": [
    {
     "data": {
      "text/plain": [
       "'BQBfW0yRKc5rP28C0Oe8YhCMb28HIeexZaYvGErGyJd4gVe-ipAoN9E6JVmiDOXiuph7k9HdMfIFGoMvTGupQoJgXnrIYapoP0X2AbdhvEjFqJLLTysFCT6EgtmcuZ_k0AvLOp3xrpsOecBlKO0ICRcH_1UtxPSUXmav7pDFpnU'"
      ]
     },
     "execution_count": 11,
     "metadata": {},
     "output_type": "execute_result"
    }
   ],
   "source": [
    "user_tokens[0].access_token"
   ]
  },
  {
   "cell_type": "code",
   "execution_count": 12,
   "id": "1c971746",
   "metadata": {},
   "outputs": [],
   "source": [
    "headers = {'Content-Type': 'application/json',\n",
    "               'Authorization': \"Bearer \" + user_tokens[0].access_token}"
   ]
  },
  {
   "cell_type": "code",
   "execution_count": 37,
   "id": "588c78bf",
   "metadata": {},
   "outputs": [],
   "source": [
    "r = put('https://api.spotify.com/v1/me/player/play', headers=headers)"
   ]
  },
  {
   "cell_type": "code",
   "execution_count": 38,
   "id": "4d13d846",
   "metadata": {},
   "outputs": [
    {
     "data": {
      "text/plain": [
       "b'{\\n  \"error\" : {\\n    \"status\" : 403,\\n    \"message\" : \"Player command failed: Premium required\",\\n    \"reason\" : \"PREMIUM_REQUIRED\"\\n  }\\n}'"
      ]
     },
     "execution_count": 38,
     "metadata": {},
     "output_type": "execute_result"
    }
   ],
   "source": [
    "r.content"
   ]
  },
  {
   "cell_type": "code",
   "execution_count": 33,
   "id": "a7d233fc",
   "metadata": {},
   "outputs": [],
   "source": [
    "r = get(BASE_URL + \"player/play\", headers=headers)"
   ]
  },
  {
   "cell_type": "code",
   "execution_count": 36,
   "id": "09d51764",
   "metadata": {},
   "outputs": [
    {
     "data": {
      "text/plain": [
       "b'{\\n  \"error\": {\\n    \"status\": 404,\\n    \"message\": \"Service not found\"\\n  }\\n}'"
      ]
     },
     "execution_count": 36,
     "metadata": {},
     "output_type": "execute_result"
    }
   ],
   "source": []
  },
  {
   "cell_type": "code",
   "execution_count": 26,
   "id": "f1d06730",
   "metadata": {},
   "outputs": [
    {
     "data": {
      "text/plain": [
       "requests.models.Response"
      ]
     },
     "execution_count": 26,
     "metadata": {},
     "output_type": "execute_result"
    }
   ],
   "source": [
    "type(response)"
   ]
  },
  {
   "cell_type": "code",
   "execution_count": 28,
   "id": "48e9c66b",
   "metadata": {},
   "outputs": [
    {
     "data": {
      "text/plain": [
       "''"
      ]
     },
     "execution_count": 28,
     "metadata": {},
     "output_type": "execute_result"
    }
   ],
   "source": [
    "response.text"
   ]
  },
  {
   "cell_type": "code",
   "execution_count": 27,
   "id": "47c168f7",
   "metadata": {},
   "outputs": [
    {
     "ename": "JSONDecodeError",
     "evalue": "Expecting value: line 1 column 1 (char 0)",
     "output_type": "error",
     "traceback": [
      "\u001b[1;31m---------------------------------------------------------------------------\u001b[0m",
      "\u001b[1;31mJSONDecodeError\u001b[0m                           Traceback (most recent call last)",
      "\u001b[1;32m~\\AppData\\Local\\Temp/ipykernel_1736/759109922.py\u001b[0m in \u001b[0;36m<module>\u001b[1;34m\u001b[0m\n\u001b[1;32m----> 1\u001b[1;33m \u001b[0mprint\u001b[0m\u001b[1;33m(\u001b[0m\u001b[0mresponse\u001b[0m\u001b[1;33m.\u001b[0m\u001b[0mjson\u001b[0m\u001b[1;33m(\u001b[0m\u001b[1;33m)\u001b[0m\u001b[1;33m)\u001b[0m\u001b[1;33m\u001b[0m\u001b[1;33m\u001b[0m\u001b[0m\n\u001b[0m",
      "\u001b[1;32mc:\\users\\dell\\.virtualenvs\\django_react_project_tim-ciuu7kww\\lib\\site-packages\\requests\\models.py\u001b[0m in \u001b[0;36mjson\u001b[1;34m(self, **kwargs)\u001b[0m\n\u001b[0;32m    908\u001b[0m                     \u001b[1;31m# used.\u001b[0m\u001b[1;33m\u001b[0m\u001b[1;33m\u001b[0m\u001b[1;33m\u001b[0m\u001b[0m\n\u001b[0;32m    909\u001b[0m                     \u001b[1;32mpass\u001b[0m\u001b[1;33m\u001b[0m\u001b[1;33m\u001b[0m\u001b[0m\n\u001b[1;32m--> 910\u001b[1;33m         \u001b[1;32mreturn\u001b[0m \u001b[0mcomplexjson\u001b[0m\u001b[1;33m.\u001b[0m\u001b[0mloads\u001b[0m\u001b[1;33m(\u001b[0m\u001b[0mself\u001b[0m\u001b[1;33m.\u001b[0m\u001b[0mtext\u001b[0m\u001b[1;33m,\u001b[0m \u001b[1;33m**\u001b[0m\u001b[0mkwargs\u001b[0m\u001b[1;33m)\u001b[0m\u001b[1;33m\u001b[0m\u001b[1;33m\u001b[0m\u001b[0m\n\u001b[0m\u001b[0;32m    911\u001b[0m \u001b[1;33m\u001b[0m\u001b[0m\n\u001b[0;32m    912\u001b[0m     \u001b[1;33m@\u001b[0m\u001b[0mproperty\u001b[0m\u001b[1;33m\u001b[0m\u001b[1;33m\u001b[0m\u001b[0m\n",
      "\u001b[1;32mc:\\users\\dell\\appdata\\local\\programs\\python\\python39\\lib\\json\\__init__.py\u001b[0m in \u001b[0;36mloads\u001b[1;34m(s, cls, object_hook, parse_float, parse_int, parse_constant, object_pairs_hook, **kw)\u001b[0m\n\u001b[0;32m    344\u001b[0m             \u001b[0mparse_int\u001b[0m \u001b[1;32mis\u001b[0m \u001b[1;32mNone\u001b[0m \u001b[1;32mand\u001b[0m \u001b[0mparse_float\u001b[0m \u001b[1;32mis\u001b[0m \u001b[1;32mNone\u001b[0m \u001b[1;32mand\u001b[0m\u001b[1;33m\u001b[0m\u001b[1;33m\u001b[0m\u001b[0m\n\u001b[0;32m    345\u001b[0m             parse_constant is None and object_pairs_hook is None and not kw):\n\u001b[1;32m--> 346\u001b[1;33m         \u001b[1;32mreturn\u001b[0m \u001b[0m_default_decoder\u001b[0m\u001b[1;33m.\u001b[0m\u001b[0mdecode\u001b[0m\u001b[1;33m(\u001b[0m\u001b[0ms\u001b[0m\u001b[1;33m)\u001b[0m\u001b[1;33m\u001b[0m\u001b[1;33m\u001b[0m\u001b[0m\n\u001b[0m\u001b[0;32m    347\u001b[0m     \u001b[1;32mif\u001b[0m \u001b[0mcls\u001b[0m \u001b[1;32mis\u001b[0m \u001b[1;32mNone\u001b[0m\u001b[1;33m:\u001b[0m\u001b[1;33m\u001b[0m\u001b[1;33m\u001b[0m\u001b[0m\n\u001b[0;32m    348\u001b[0m         \u001b[0mcls\u001b[0m \u001b[1;33m=\u001b[0m \u001b[0mJSONDecoder\u001b[0m\u001b[1;33m\u001b[0m\u001b[1;33m\u001b[0m\u001b[0m\n",
      "\u001b[1;32mc:\\users\\dell\\appdata\\local\\programs\\python\\python39\\lib\\json\\decoder.py\u001b[0m in \u001b[0;36mdecode\u001b[1;34m(self, s, _w)\u001b[0m\n\u001b[0;32m    335\u001b[0m \u001b[1;33m\u001b[0m\u001b[0m\n\u001b[0;32m    336\u001b[0m         \"\"\"\n\u001b[1;32m--> 337\u001b[1;33m         \u001b[0mobj\u001b[0m\u001b[1;33m,\u001b[0m \u001b[0mend\u001b[0m \u001b[1;33m=\u001b[0m \u001b[0mself\u001b[0m\u001b[1;33m.\u001b[0m\u001b[0mraw_decode\u001b[0m\u001b[1;33m(\u001b[0m\u001b[0ms\u001b[0m\u001b[1;33m,\u001b[0m \u001b[0midx\u001b[0m\u001b[1;33m=\u001b[0m\u001b[0m_w\u001b[0m\u001b[1;33m(\u001b[0m\u001b[0ms\u001b[0m\u001b[1;33m,\u001b[0m \u001b[1;36m0\u001b[0m\u001b[1;33m)\u001b[0m\u001b[1;33m.\u001b[0m\u001b[0mend\u001b[0m\u001b[1;33m(\u001b[0m\u001b[1;33m)\u001b[0m\u001b[1;33m)\u001b[0m\u001b[1;33m\u001b[0m\u001b[1;33m\u001b[0m\u001b[0m\n\u001b[0m\u001b[0;32m    338\u001b[0m         \u001b[0mend\u001b[0m \u001b[1;33m=\u001b[0m \u001b[0m_w\u001b[0m\u001b[1;33m(\u001b[0m\u001b[0ms\u001b[0m\u001b[1;33m,\u001b[0m \u001b[0mend\u001b[0m\u001b[1;33m)\u001b[0m\u001b[1;33m.\u001b[0m\u001b[0mend\u001b[0m\u001b[1;33m(\u001b[0m\u001b[1;33m)\u001b[0m\u001b[1;33m\u001b[0m\u001b[1;33m\u001b[0m\u001b[0m\n\u001b[0;32m    339\u001b[0m         \u001b[1;32mif\u001b[0m \u001b[0mend\u001b[0m \u001b[1;33m!=\u001b[0m \u001b[0mlen\u001b[0m\u001b[1;33m(\u001b[0m\u001b[0ms\u001b[0m\u001b[1;33m)\u001b[0m\u001b[1;33m:\u001b[0m\u001b[1;33m\u001b[0m\u001b[1;33m\u001b[0m\u001b[0m\n",
      "\u001b[1;32mc:\\users\\dell\\appdata\\local\\programs\\python\\python39\\lib\\json\\decoder.py\u001b[0m in \u001b[0;36mraw_decode\u001b[1;34m(self, s, idx)\u001b[0m\n\u001b[0;32m    353\u001b[0m             \u001b[0mobj\u001b[0m\u001b[1;33m,\u001b[0m \u001b[0mend\u001b[0m \u001b[1;33m=\u001b[0m \u001b[0mself\u001b[0m\u001b[1;33m.\u001b[0m\u001b[0mscan_once\u001b[0m\u001b[1;33m(\u001b[0m\u001b[0ms\u001b[0m\u001b[1;33m,\u001b[0m \u001b[0midx\u001b[0m\u001b[1;33m)\u001b[0m\u001b[1;33m\u001b[0m\u001b[1;33m\u001b[0m\u001b[0m\n\u001b[0;32m    354\u001b[0m         \u001b[1;32mexcept\u001b[0m \u001b[0mStopIteration\u001b[0m \u001b[1;32mas\u001b[0m \u001b[0merr\u001b[0m\u001b[1;33m:\u001b[0m\u001b[1;33m\u001b[0m\u001b[1;33m\u001b[0m\u001b[0m\n\u001b[1;32m--> 355\u001b[1;33m             \u001b[1;32mraise\u001b[0m \u001b[0mJSONDecodeError\u001b[0m\u001b[1;33m(\u001b[0m\u001b[1;34m\"Expecting value\"\u001b[0m\u001b[1;33m,\u001b[0m \u001b[0ms\u001b[0m\u001b[1;33m,\u001b[0m \u001b[0merr\u001b[0m\u001b[1;33m.\u001b[0m\u001b[0mvalue\u001b[0m\u001b[1;33m)\u001b[0m \u001b[1;32mfrom\u001b[0m \u001b[1;32mNone\u001b[0m\u001b[1;33m\u001b[0m\u001b[1;33m\u001b[0m\u001b[0m\n\u001b[0m\u001b[0;32m    356\u001b[0m         \u001b[1;32mreturn\u001b[0m \u001b[0mobj\u001b[0m\u001b[1;33m,\u001b[0m \u001b[0mend\u001b[0m\u001b[1;33m\u001b[0m\u001b[1;33m\u001b[0m\u001b[0m\n",
      "\u001b[1;31mJSONDecodeError\u001b[0m: Expecting value: line 1 column 1 (char 0)"
     ]
    }
   ],
   "source": [
    "print(response.json())"
   ]
  },
  {
   "cell_type": "code",
   "execution_count": null,
   "id": "1c365ad8",
   "metadata": {},
   "outputs": [],
   "source": []
  }
 ],
 "metadata": {
  "kernelspec": {
   "display_name": "Python 3 (ipykernel)",
   "language": "python",
   "name": "python3"
  },
  "language_info": {
   "codemirror_mode": {
    "name": "ipython",
    "version": 3
   },
   "file_extension": ".py",
   "mimetype": "text/x-python",
   "name": "python",
   "nbconvert_exporter": "python",
   "pygments_lexer": "ipython3",
   "version": "3.9.6"
  }
 },
 "nbformat": 4,
 "nbformat_minor": 5
}
